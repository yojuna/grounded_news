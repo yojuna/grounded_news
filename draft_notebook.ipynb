{
 "cells": [
  {
   "cell_type": "code",
   "execution_count": 1,
   "metadata": {},
   "outputs": [],
   "source": [
    "import feedparser\n",
    "from pprint import pprint\n",
    "\n",
    "import config\n",
    "\n",
    "from tqdm import tqdm"
   ]
  },
  {
   "cell_type": "code",
   "execution_count": 2,
   "metadata": {},
   "outputs": [],
   "source": [
    "links = list((config.rss_links).values())"
   ]
  },
  {
   "cell_type": "code",
   "execution_count": 3,
   "metadata": {},
   "outputs": [],
   "source": [
    "# def process_posts_alt(newsfeed_obj):\n",
    "#     return [post for post in newsfeed_obj.entries]\n",
    "\n",
    "def process_posts(newsfeed_obj):\n",
    "    for post in newsfeed_obj.entries:\n",
    "        posts_dict = {}\n",
    "        posts_dict['title'] = post.title\n",
    "        posts_dict['link'] = post.link\n",
    "#         posts_dict['summary_detail'] = post.summary\n",
    "        posts_dict['published'] = post.published\n",
    "        try:\n",
    "            posts_dict['author'] = post.authors\n",
    "        except:\n",
    "            pass\n",
    "        postmaster.append(posts_dict)"
   ]
  },
  {
   "cell_type": "code",
   "execution_count": null,
   "metadata": {},
   "outputs": [],
   "source": []
  },
  {
   "cell_type": "code",
   "execution_count": 4,
   "metadata": {},
   "outputs": [
    {
     "name": "stderr",
     "output_type": "stream",
     "text": [
      "100%|██████████| 19/19 [00:21<00:00,  1.12s/it]\n"
     ]
    }
   ],
   "source": [
    "# extract rss feeds and push to a list\n",
    "\n",
    "postmaster = []\n",
    "\n",
    "for link in tqdm(links):\n",
    "#     print(link)\n",
    "    entries_list = process_posts(feedparser.parse(link))\n",
    "    postmaster.append(entries_list)"
   ]
  },
  {
   "cell_type": "code",
   "execution_count": 5,
   "metadata": {},
   "outputs": [],
   "source": [
    "# clean NoneType entries\n",
    "postmaster = [posts for posts in postmaster if posts is not None]"
   ]
  },
  {
   "cell_type": "code",
   "execution_count": 6,
   "metadata": {},
   "outputs": [],
   "source": [
    "# get titles\n",
    "titles_list = list(set([post['title'] for post in postmaster]))"
   ]
  },
  {
   "cell_type": "code",
   "execution_count": 7,
   "metadata": {},
   "outputs": [
    {
     "data": {
      "text/plain": [
       "1632"
      ]
     },
     "execution_count": 7,
     "metadata": {},
     "output_type": "execute_result"
    }
   ],
   "source": [
    "len(titles_list)"
   ]
  },
  {
   "cell_type": "code",
   "execution_count": 8,
   "metadata": {},
   "outputs": [
    {
     "data": {
      "text/plain": [
       "[\"From Rahul Dravid To Shah Rukh Khan: Who's Who Of India Invited For Modi's Swearing-In\",\n",
       " 'A.P. records highest-ever daily toll of 108',\n",
       " 'PIL against Central Vista: Centre bats in favour of construction; court adjourns matter for tomorrow',\n",
       " 'Arbitration case: Cairn digs in heels, PSBs say prepared for legal battle',\n",
       " \"COVID-19: Delhi's positivity rate comes down from 36% to 19%\",\n",
       " 'Old SpaceX Clip Shared As Chinese Rocket Falling Into Indian Ocean',\n",
       " \"'I was a bit nervous about wearing a bikini'\",\n",
       " 'Appeal to ULFA(I) chief to abjure violence: Himanta',\n",
       " 'Chhatarpur centre opens, but only for those already registered',\n",
       " 'NYSE-listed Startek prunes net loss to $12.2 million in first quarter',\n",
       " 'Covaxin rates: Rs 600 for states; Rs 1,200 for hospitals',\n",
       " 'Never break Covid-19 protocols of other countries: Rijiju to athletes',\n",
       " 'Price, distribution: States want clarity from Centre',\n",
       " \"ICC WTC final: Our fast bowlers enjoy each other's success, says Shami\",\n",
       " 'Cloudburst in Uttarakhand’s Devprayag; Shops, Buildings Damaged',\n",
       " 'Plea in SC seeks fresh loan moratorium',\n",
       " 'PM Modi Pays Tributes To Mahatma Gandhi, Vajpayee Ahead Of Swearing In',\n",
       " 'Total lockdown in Telangana: Chief Minister K Chandrasekhar Rao to take BIG decision soon',\n",
       " 'Telangana closes border with Maharashtra due to Covid',\n",
       " 'COVID-19 surge: A.P. police promise life-saving medical treatment for Maoists on tri-State border']"
      ]
     },
     "execution_count": 8,
     "metadata": {},
     "output_type": "execute_result"
    }
   ],
   "source": [
    "titles_list[:20]"
   ]
  },
  {
   "cell_type": "code",
   "execution_count": null,
   "metadata": {},
   "outputs": [],
   "source": []
  },
  {
   "cell_type": "code",
   "execution_count": 9,
   "metadata": {},
   "outputs": [],
   "source": [
    "# sentence embeddings"
   ]
  },
  {
   "cell_type": "code",
   "execution_count": 10,
   "metadata": {},
   "outputs": [],
   "source": [
    "from sentence_transformers import SentenceTransformer"
   ]
  },
  {
   "cell_type": "code",
   "execution_count": 11,
   "metadata": {},
   "outputs": [],
   "source": [
    "model = SentenceTransformer('stsb-distilroberta-base-v2')"
   ]
  },
  {
   "cell_type": "code",
   "execution_count": 12,
   "metadata": {},
   "outputs": [
    {
     "data": {
      "application/vnd.jupyter.widget-view+json": {
       "model_id": "2c54fd2237394a55af167f7449624b77",
       "version_major": 2,
       "version_minor": 0
      },
      "text/plain": [
       "HBox(children=(FloatProgress(value=0.0, description='Batches', max=51.0, style=ProgressStyle(description_width…"
      ]
     },
     "metadata": {},
     "output_type": "display_data"
    },
    {
     "name": "stdout",
     "output_type": "stream",
     "text": [
      "\n"
     ]
    }
   ],
   "source": [
    "embeddings = model.encode(titles_list, show_progress_bar=True)"
   ]
  },
  {
   "cell_type": "code",
   "execution_count": null,
   "metadata": {},
   "outputs": [],
   "source": []
  },
  {
   "cell_type": "code",
   "execution_count": 13,
   "metadata": {},
   "outputs": [],
   "source": [
    "# dimensionality reduction"
   ]
  },
  {
   "cell_type": "code",
   "execution_count": 14,
   "metadata": {},
   "outputs": [],
   "source": [
    "import umap"
   ]
  },
  {
   "cell_type": "code",
   "execution_count": 15,
   "metadata": {},
   "outputs": [],
   "source": [
    "umap_embeddings = umap.UMAP(n_neighbors=15, \n",
    "                            n_components=5, \n",
    "                            metric='cosine').fit_transform(embeddings)"
   ]
  },
  {
   "cell_type": "code",
   "execution_count": 16,
   "metadata": {},
   "outputs": [],
   "source": [
    "# cluster"
   ]
  },
  {
   "cell_type": "code",
   "execution_count": 17,
   "metadata": {},
   "outputs": [],
   "source": [
    "import numpy"
   ]
  },
  {
   "cell_type": "code",
   "execution_count": 18,
   "metadata": {},
   "outputs": [
    {
     "data": {
      "text/plain": [
       "'1.20.3'"
      ]
     },
     "execution_count": 18,
     "metadata": {},
     "output_type": "execute_result"
    }
   ],
   "source": [
    "numpy.__version__"
   ]
  },
  {
   "cell_type": "code",
   "execution_count": 19,
   "metadata": {},
   "outputs": [],
   "source": [
    "import hdbscan"
   ]
  },
  {
   "cell_type": "code",
   "execution_count": 20,
   "metadata": {},
   "outputs": [],
   "source": [
    "cluster = hdbscan.HDBSCAN(min_cluster_size=15,\n",
    "                          metric='euclidean',                      \n",
    "                          cluster_selection_method='eom').fit(umap_embeddings)"
   ]
  },
  {
   "cell_type": "code",
   "execution_count": 21,
   "metadata": {},
   "outputs": [
    {
     "data": {
      "text/plain": [
       "<matplotlib.axes._subplots.AxesSubplot at 0x7f2c140559d0>"
      ]
     },
     "execution_count": 21,
     "metadata": {},
     "output_type": "execute_result"
    },
    {
     "data": {
      "image/png": "[encoded data removed]",
      "text/plain": [
       "<Figure size 432x288 with 2 Axes>"
      ]
     },
     "metadata": {
      "needs_background": "light"
     },
     "output_type": "display_data"
    }
   ],
   "source": [
    "cluster.condensed_tree_.plot()"
   ]
  },
  {
   "cell_type": "code",
   "execution_count": null,
   "metadata": {},
   "outputs": [],
   "source": []
  },
  {
   "cell_type": "code",
   "execution_count": null,
   "metadata": {},
   "outputs": [],
   "source": []
  },
  {
   "cell_type": "code",
   "execution_count": null,
   "metadata": {},
   "outputs": [],
   "source": []
  },
  {
   "cell_type": "code",
   "execution_count": null,
   "metadata": {},
   "outputs": [],
   "source": [
    "for postslist in postmaster:\n",
    "    if postslist:\n",
    "        print([key for key in postslist[0].keys()])"
   ]
  },
  {
   "cell_type": "code",
   "execution_count": null,
   "metadata": {},
   "outputs": [],
   "source": [
    "source_list = ['TOI India',\n",
    "'TOI Most Recent Stories',\n",
    "'TOI World',\n",
    "'NDTV',\n",
    "'India Today',\n",
    "'The Indian Express General Feed',\n",
    "'The Indian Express Front Page Feed',\n",
    "'The Hindu National Feed',\n",
    "'The Hindu Default feed',\n",
    "'News18',\n",
    "'Business Standard',\n",
    "'DNA India',\n",
    "'Deccan Chronicle',\n",
    "'Scroll',\n",
    "'Financial Express',\n",
    "'The Hindu Business Line',\n",
    "'Free Press Journal',\n",
    "'Outlook India',\n",
    "'The Quint']\n",
    "\n",
    "links_list = ['http://timesofindia.indiatimes.com/rssfeeds/-2128936835.cms',\n",
    "'http://timesofindia.indiatimes.com/rssfeeds/1221656.cms',\n",
    "'http://timesofindia.indiatimes.com/rssfeeds/296589292.cms',\n",
    "'http://feeds.feedburner.com/NDTV-LatestNews',\n",
    "'https://www.indiatoday.in/rss/1206578',\n",
    "'https://indianexpress.com/feed/',\n",
    "'https://indianexpress.com/print/front-page/feed/',\n",
    "'https://www.thehindu.com/news/national/?service=rss',\n",
    "'https://www.thehindu.com/news/feeder/default.rss',\n",
    "'http://www.news18.com/rss/india.xml',\n",
    "'https://www.business-standard.com/rss/latest.rss',\n",
    "'https://www.dnaindia.com/feeds/india.xml',\n",
    "'https://www.deccanchronicle.com/rss_feed/',\n",
    "'http://feeds.feedburner.com/ScrollinArticles.rss',\n",
    "'http://www.financialexpress.com/feed',\n",
    "'https://www.thehindubusinessline.com/?service=rss',\n",
    "'https://prod-qt-images.s3.amazonaws.com/production/freepressjournal/feed.xml',\n",
    "'http://www.outlookindia.com/rss/home',\n",
    "'https://prod-qt-images.s3.amazonaws.com/production/thequint/feed.xml']\n",
    "\n",
    "sources = dict(zip(source_list, links_list))"
   ]
  },
  {
   "cell_type": "code",
   "execution_count": null,
   "metadata": {},
   "outputs": [],
   "source": [
    "sources"
   ]
  },
  {
   "cell_type": "code",
   "execution_count": null,
   "metadata": {},
   "outputs": [],
   "source": [
    "# check rss feed links\n",
    "\n",
    "links_to_check = ['http://timesofindia.indiatimes.com/rssfeeds/-2128936835.cms',\n",
    "'http://timesofindia.indiatimes.com/rssfeeds/1221656.cms',\n",
    "'http://timesofindia.indiatimes.com/rssfeeds/296589292.cms',\n",
    "'http://feeds.feedburner.com/NDTV-LatestNews',\n",
    "'https://www.indiatoday.in/rss/1206578',\n",
    "'https://indianexpress.com/feed/',\n",
    "'https://indianexpress.com/print/front-page/feed/',\n",
    "'https://www.thehindu.com/news/national/?service=rss',\n",
    "'https://www.thehindu.com/news/feeder/default.rss',\n",
    "'http://www.news18.com/rss/india.xml',\n",
    "'https://www.business-standard.com/rss/latest.rss',\n",
    "'https://www.dnaindia.com/feeds/india.xml',\n",
    "'https://www.deccanchronicle.com/rss_feed/',\n",
    "'http://feeds.feedburner.com/ScrollinArticles.rss',\n",
    "'http://www.financialexpress.com/feed',\n",
    "'https://www.thehindubusinessline.com/?service=rss',\n",
    "'https://prod-qt-images.s3.amazonaws.com/production/freepressjournal/feed.xml',\n",
    "'http://www.outlookindia.com/rss/home',\n",
    "'https://prod-qt-images.s3.amazonaws.com/production/thequint/feed.xml']\n",
    "\n",
    "def check_feed(link):\n",
    "    print(link)\n",
    "    print(len(feedparser.parse(link).entries))\n",
    "    print('------------------------')\n",
    "    \n",
    "for link in links_to_check:\n",
    "    check_feed(link)\n",
    "    "
   ]
  },
  {
   "cell_type": "code",
   "execution_count": null,
   "metadata": {},
   "outputs": [],
   "source": [
    "sources = dict(zip(source_list, links_list))"
   ]
  },
  {
   "cell_type": "code",
   "execution_count": null,
   "metadata": {},
   "outputs": [],
   "source": [
    "# toi_link = 'http://timesofindia.indiatimes.com/rssfeeds/-2128936835.cms' 15 india\n",
    "# toi_link = 'http://timesofindia.indiatimes.com/rssfeeds/1221656.cms' 19 most recent stories\n",
    "# toi_link = 'http://timesofindia.indiatimes.com/rssfeeds/296589292.cms' 20 world\n",
    "toi_link = 'http://timesofindia.indiatimes.com/rssfeeds/-2128936835.cms'\n",
    "len(feedparser.parse(toi_link).entries)"
   ]
  },
  {
   "cell_type": "code",
   "execution_count": null,
   "metadata": {},
   "outputs": [],
   "source": [
    "len(feedparser.parse('https://www.thehindu.com/news/feeder/default.rss').entries)"
   ]
  },
  {
   "cell_type": "code",
   "execution_count": null,
   "metadata": {},
   "outputs": [],
   "source": [
    "ie_link = 'https://indianexpress.com/print/front-page/feed/'\n",
    "feedparser.parse(ie_link)"
   ]
  },
  {
   "cell_type": "code",
   "execution_count": null,
   "metadata": {},
   "outputs": [],
   "source": [
    "len(feedparser.parse(ie_link).entries)"
   ]
  },
  {
   "cell_type": "code",
   "execution_count": null,
   "metadata": {},
   "outputs": [],
   "source": [
    "ie_link_generic = 'https://indianexpress.com/feed/'\n",
    "feedparser.parse(ie_link_generic)"
   ]
  },
  {
   "cell_type": "code",
   "execution_count": null,
   "metadata": {},
   "outputs": [],
   "source": []
  },
  {
   "cell_type": "code",
   "execution_count": null,
   "metadata": {},
   "outputs": [],
   "source": []
  },
  {
   "cell_type": "code",
   "execution_count": null,
   "metadata": {},
   "outputs": [],
   "source": []
  },
  {
   "cell_type": "code",
   "execution_count": null,
   "metadata": {},
   "outputs": [],
   "source": []
  },
  {
   "cell_type": "code",
   "execution_count": null,
   "metadata": {},
   "outputs": [],
   "source": [
    "# NewsFeed = feedparser.parse('https://www.thehindu.com/news/feeder/default.rss')\n",
    "NewsFeed"
   ]
  },
  {
   "cell_type": "code",
   "execution_count": null,
   "metadata": {},
   "outputs": [],
   "source": [
    "NewsFeed.entries[0]"
   ]
  },
  {
   "cell_type": "code",
   "execution_count": null,
   "metadata": {},
   "outputs": [],
   "source": [
    "postmaster = []\n",
    "\n",
    "for post in NewsFeed.entries:\n",
    "    posts_dict = {}\n",
    "    print(post.title)\n",
    "    posts_dict['title'] = post.title\n",
    "    posts_dict['authors'] = post.authors\n",
    "    posts_dict['link'] = post.link\n",
    "    posts_dict['summary'] = post.summary\n",
    "    posts_dict['published'] = post.published\n",
    "    \n",
    "    postmaster.append(posts_dict)\n",
    "    print('----------------------')\n",
    "    "
   ]
  },
  {
   "cell_type": "code",
   "execution_count": null,
   "metadata": {},
   "outputs": [],
   "source": [
    "pprint(postmaster[:5])"
   ]
  },
  {
   "cell_type": "code",
   "execution_count": null,
   "metadata": {},
   "outputs": [],
   "source": []
  },
  {
   "cell_type": "code",
   "execution_count": null,
   "metadata": {},
   "outputs": [],
   "source": [
    "len(postmaster)"
   ]
  }
 ],
 "metadata": {
  "kernelspec": {
   "display_name": "Python 3",
   "language": "python",
   "name": "python3"
  },
  "language_info": {
   "codemirror_mode": {
    "name": "ipython",
    "version": 3
   },
   "file_extension": ".py",
   "mimetype": "text/x-python",
   "name": "python",
   "nbconvert_exporter": "python",
   "pygments_lexer": "ipython3",
   "version": "3.7.6"
  },
  "toc": {
   "base_numbering": 1,
   "nav_menu": {},
   "number_sections": true,
   "sideBar": true,
   "skip_h1_title": false,
   "title_cell": "Table of Contents",
   "title_sidebar": "Contents",
   "toc_cell": false,
   "toc_position": {},
   "toc_section_display": true,
   "toc_window_display": false
  },
  "varInspector": {
   "cols": {
    "lenName": 16,
    "lenType": 16,
    "lenVar": 40
   },
   "kernels_config": {
    "python": {
     "delete_cmd_postfix": "",
     "delete_cmd_prefix": "del ",
     "library": "var_list.py",
     "varRefreshCmd": "print(var_dic_list())"
    },
    "r": {
     "delete_cmd_postfix": ") ",
     "delete_cmd_prefix": "rm(",
     "library": "var_list.r",
     "varRefreshCmd": "cat(var_dic_list()) "
    }
   },
   "position": {
    "height": "507.85px",
    "left": "1550px",
    "right": "20px",
    "top": "120px",
    "width": "350px"
   },
   "types_to_exclude": [
    "module",
    "function",
    "builtin_function_or_method",
    "instance",
    "_Feature"
   ],
   "window_display": false
  }
 },
 "nbformat": 4,
 "nbformat_minor": 4
}
